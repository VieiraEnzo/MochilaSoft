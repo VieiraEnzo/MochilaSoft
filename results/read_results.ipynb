{
 "cells": [
  {
   "cell_type": "code",
   "execution_count": 1,
   "metadata": {},
   "outputs": [],
   "source": [
    "import os\n",
    "import pandas as pd\n",
    "import re"
   ]
  },
  {
   "cell_type": "code",
   "execution_count": 2,
   "metadata": {},
   "outputs": [],
   "source": [
    "def extract_data_from_file(file_path):\n",
    "    with open(file_path, 'r') as file:\n",
    "        lines = file.readlines()\n",
    "        for line in lines:\n",
    "            if line.startswith(\"Best Cost:\"):\n",
    "                best_cost = float(line.split(\":\")[1].strip())\n",
    "            if line.startswith(\"Time:\"):\n",
    "                time = float(line.split(\":\")[1].strip())\n",
    "        return best_cost, time"
   ]
  },
  {
   "cell_type": "code",
   "execution_count": 3,
   "metadata": {},
   "outputs": [],
   "source": [
    "def numeric_key(file_name):\n",
    "    match = re.search(r'(\\d+)', file_name)\n",
    "    return int(match.group(1)) if match else float('inf')"
   ]
  },
  {
   "cell_type": "code",
   "execution_count": 4,
   "metadata": {},
   "outputs": [],
   "source": [
    "def create_dataframe_from_files(folder_path):\n",
    "    data = {\n",
    "        \"Instance\":[],\n",
    "        \"Best Cost\": [],\n",
    "        \"Time\": []\n",
    "    }\n",
    "    \n",
    "    # List all files in the folder\n",
    "    files = [f for f in os.listdir(folder_path) if f.endswith('.txt')]\n",
    "    \n",
    "    # Sort files based on the numeric part of the filename\n",
    "    files.sort(key=numeric_key)\n",
    "        \n",
    "    for file_name in files:\n",
    "        file_path = os.path.join(folder_path, file_name)\n",
    "        best_cost, time = extract_data_from_file(file_path)\n",
    "        data[\"Instance\"].append(file_path)\n",
    "        data[\"Best Cost\"].append(int(best_cost))\n",
    "        data[\"Time\"].append(time)\n",
    "    \n",
    "    # Create dataframe\n",
    "    df = pd.DataFrame(data)\n",
    "    \n",
    "    df['Time'] = df['Time'].astype(str).str.replace('.', ',')\n",
    "    \n",
    "    return df"
   ]
  },
  {
   "cell_type": "code",
   "execution_count": 5,
   "metadata": {},
   "outputs": [],
   "source": [
    "# instance_type = {\"500\",\"700\",\"800\", \"1000\"}\n",
    "instance_type = {\"500\"}"
   ]
  },
  {
   "cell_type": "code",
   "execution_count": 8,
   "metadata": {},
   "outputs": [
    {
     "name": "stdout",
     "output_type": "stream",
     "text": [
      "exec_kpf_10_sum_.txt  exec_kpf_4_sum_.txt  exec_kpf_8_sum_.txt\n",
      "exec_kpf_1_sum_.txt   exec_kpf_5_sum_.txt  exec_kpf_9_sum_.txt\n",
      "exec_kpf_2_sum_.txt   exec_kpf_6_sum_.txt\n",
      "exec_kpf_3_sum_.txt   exec_kpf_7_sum_.txt\n"
     ]
    }
   ],
   "source": [
    "ls ./O/500"
   ]
  },
  {
   "cell_type": "code",
   "execution_count": 9,
   "metadata": {},
   "outputs": [],
   "source": [
    "df_total = pd.DataFrame()\n",
    "for i_type in instance_type:\n",
    "    folder_path = f\"./O/{i_type}\"\n",
    "    df = create_dataframe_from_files(folder_path)\n",
    "    df_total = pd.concat([df_total, df], ignore_index=True)    "
   ]
  },
  {
   "cell_type": "code",
   "execution_count": 10,
   "metadata": {},
   "outputs": [],
   "source": [
    "df_total.to_csv(\"./O/consolidado.csv\")"
   ]
  },
  {
   "cell_type": "code",
   "execution_count": null,
   "metadata": {},
   "outputs": [],
   "source": []
  }
 ],
 "metadata": {
  "kernelspec": {
   "display_name": "Python 3",
   "language": "python",
   "name": "python3"
  },
  "language_info": {
   "codemirror_mode": {
    "name": "ipython",
    "version": 3
   },
   "file_extension": ".py",
   "mimetype": "text/x-python",
   "name": "python",
   "nbconvert_exporter": "python",
   "pygments_lexer": "ipython3",
   "version": "3.10.12"
  }
 },
 "nbformat": 4,
 "nbformat_minor": 2
}
